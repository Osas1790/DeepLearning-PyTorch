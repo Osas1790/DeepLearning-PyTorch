{
  "cells": [
    {
      "cell_type": "markdown",
      "metadata": {
        "id": "view-in-github",
        "colab_type": "text"
      },
      "source": [
        "<a href=\"https://colab.research.google.com/github/Osas1790/DeepLearning-PyTorch/blob/main/autograd_tutorial.ipynb\" target=\"_parent\"><img src=\"https://colab.research.google.com/assets/colab-badge.svg\" alt=\"Open In Colab\"/></a>"
      ]
    },
    {
      "cell_type": "code",
      "execution_count": null,
      "metadata": {
        "id": "IzCSlKvm73m5"
      },
      "outputs": [],
      "source": [
        "# For tips on running notebooks in Google Colab, see\n",
        "# https://pytorch.org/tutorials/beginner/colab\n",
        "%matplotlib inline"
      ]
    },
    {
      "cell_type": "markdown",
      "metadata": {
        "id": "C3zatWH173m7"
      },
      "source": [
        "\n",
        "# A Gentle Introduction to ``torch.autograd``\n",
        "\n",
        "``torch.autograd`` is PyTorch’s automatic differentiation engine that powers\n",
        "neural network training. In this section, you will get a conceptual\n",
        "understanding of how autograd helps a neural network train.\n",
        "\n",
        "## Background\n",
        "Neural networks (NNs) are a collection of nested functions that are\n",
        "executed on some input data. These functions are defined by *parameters*\n",
        "(consisting of weights and biases), which in PyTorch are stored in\n",
        "tensors.\n",
        "\n",
        "Training a NN happens in two steps:\n",
        "\n",
        "**Forward Propagation**: In forward prop, the NN makes its best guess\n",
        "about the correct output. It runs the input data through each of its\n",
        "functions to make this guess.\n",
        "\n",
        "**Backward Propagation**: In backprop, the NN adjusts its parameters\n",
        "proportionate to the error in its guess. It does this by traversing\n",
        "backwards from the output, collecting the derivatives of the error with\n",
        "respect to the parameters of the functions (*gradients*), and optimizing\n",
        "the parameters using gradient descent. For a more detailed walkthrough\n",
        "of backprop, check out this [video from\n",
        "3Blue1Brown](https://www.youtube.com/watch?v=tIeHLnjs5U8)_.\n",
        "\n",
        "\n",
        "\n",
        "\n",
        "## Usage in PyTorch\n",
        "Let's take a look at a single training step.\n",
        "For this example, we load a pretrained resnet18 model from ``torchvision``.\n",
        "We create a random data tensor to represent a single image with 3 channels, and height & width of 64,\n",
        "and its corresponding ``label`` initialized to some random values. Label in pretrained models has\n",
        "shape (1,1000).\n",
        "\n",
        "<div class=\"alert alert-info\"><h4>Note</h4><p>This tutorial works only on the CPU and will not work on GPU devices (even if tensors are moved to CUDA).</p></div>\n"
      ]
    },
    {
      "cell_type": "code",
      "execution_count": null,
      "metadata": {
        "colab": {
          "base_uri": "https://localhost:8080/"
        },
        "id": "Bv_6Y7GO73m9",
        "outputId": "d3397436-2df6-40cf-cae1-b9dd0184e434"
      },
      "outputs": [
        {
          "output_type": "stream",
          "name": "stderr",
          "text": [
            "Downloading: \"https://download.pytorch.org/models/resnet18-f37072fd.pth\" to /root/.cache/torch/hub/checkpoints/resnet18-f37072fd.pth\n",
            "100%|██████████| 44.7M/44.7M [00:00<00:00, 95.0MB/s]\n"
          ]
        }
      ],
      "source": [
        "import torch\n",
        "from torchvision.models import resnet18, ResNet18_Weights\n",
        "model = resnet18(weights=ResNet18_Weights.DEFAULT)\n",
        "data = torch.rand(1, 3, 64, 64)\n",
        "labels = torch.rand(1, 1000)"
      ]
    },
    {
      "cell_type": "markdown",
      "metadata": {
        "id": "IuPy495s73m9"
      },
      "source": [
        "Next, we run the input data through the model through each of its layers to make a prediction.\n",
        "This is the **forward pass**.\n",
        "\n",
        "\n"
      ]
    },
    {
      "cell_type": "code",
      "execution_count": null,
      "metadata": {
        "colab": {
          "base_uri": "https://localhost:8080/"
        },
        "id": "Ihu3ZAaS73m9",
        "outputId": "58c9e17b-6b42-4af4-8597-8d379ced93e4"
      },
      "outputs": [
        {
          "output_type": "stream",
          "name": "stdout",
          "text": [
            "tensor([[-6.7284e-01, -5.9304e-01, -4.8599e-01, -1.4256e+00, -6.1753e-01,\n",
            "         -1.3181e-01, -5.4934e-01,  5.0747e-01,  4.2103e-01, -8.4193e-01,\n",
            "         -8.1392e-01, -7.1825e-01, -3.3722e-02, -7.5968e-01, -9.9760e-01,\n",
            "         -7.0380e-01, -6.9667e-01, -7.6768e-02, -3.1534e-01, -2.5860e-01,\n",
            "         -1.5117e+00, -8.1572e-01, -1.4600e+00,  6.9404e-02, -1.1811e+00,\n",
            "         -1.2298e+00, -8.3452e-01, -1.3348e+00, -8.5762e-01, -2.7372e-01,\n",
            "         -8.8560e-01, -9.1402e-01, -5.5756e-01, -7.8109e-01, -6.9157e-01,\n",
            "         -4.8320e-01,  4.0949e-01, -7.4038e-01, -4.7228e-01, -9.8590e-03,\n",
            "         -7.6555e-01, -9.2455e-01, -1.2862e+00, -5.8948e-01, -4.8739e-01,\n",
            "         -2.2423e-01, -7.7472e-01, -5.7343e-01, -1.5506e+00, -1.1411e+00,\n",
            "         -5.7803e-01,  4.7092e-01, -2.6906e-01, -6.4976e-01, -4.0046e-01,\n",
            "         -1.3662e+00, -3.1250e-01, -1.5966e+00, -6.6178e-01, -7.3169e-01,\n",
            "          5.8175e-01, -4.9374e-02, -1.9121e-01, -6.2774e-02, -8.8001e-01,\n",
            "         -2.1117e-01, -3.8550e-01, -7.2549e-01, -9.0644e-01, -1.2570e+00,\n",
            "         -1.6309e+00,  1.6223e-01, -1.4173e+00, -4.1553e-01, -1.3699e+00,\n",
            "         -1.3356e+00, -1.5764e-01, -7.8104e-01,  2.6516e-01,  4.2348e-02,\n",
            "         -1.0737e+00, -1.5408e+00, -2.3386e-01, -1.0326e+00, -4.7465e-01,\n",
            "         -1.4210e-01,  1.2159e-02,  2.6623e-01, -2.3677e-01, -6.5358e-01,\n",
            "         -1.3497e+00, -1.3112e+00, -1.8421e+00, -3.0829e-01,  1.0396e-01,\n",
            "         -2.0427e+00, -8.8430e-01, -2.9076e-01, -1.5835e+00, -4.7085e-01,\n",
            "         -1.3740e+00, -1.2054e+00, -1.0866e+00, -3.7889e-01, -3.4636e-01,\n",
            "         -9.5316e-01, -3.7526e-01, -1.3487e+00, -1.0082e+00, -1.5530e+00,\n",
            "         -1.0409e+00, -7.6021e-01,  1.2171e+00,  2.1237e-01,  2.7725e-01,\n",
            "         -9.7288e-01, -8.7456e-01, -2.1942e-01,  4.2193e-01, -5.4271e-01,\n",
            "         -8.6376e-01, -3.1264e-01,  2.3592e-01, -8.8101e-02,  1.0156e+00,\n",
            "         -2.5076e-01,  2.3489e-01, -1.3717e+00, -1.0166e+00, -8.2560e-01,\n",
            "         -1.4124e+00, -1.2793e+00, -8.0374e-01, -1.5078e+00, -6.4803e-01,\n",
            "         -1.3134e+00, -9.4975e-01, -1.0976e+00, -1.3895e+00, -1.4840e+00,\n",
            "         -1.3512e+00, -1.6640e+00, -2.1218e+00, -1.4719e+00, -5.9143e-01,\n",
            "         -3.6632e-01, -1.0601e+00, -2.0023e+00, -1.1690e+00, -1.2819e+00,\n",
            "          4.0408e-01,  1.5209e+00, -9.2332e-01, -4.3478e-01, -2.2162e-02,\n",
            "          1.7439e-01, -3.5177e-01, -3.1825e-01,  1.8947e-01, -7.8150e-02,\n",
            "          2.8093e-01,  8.0962e-01,  2.7494e-01,  4.7915e-01, -6.8992e-02,\n",
            "         -4.0980e-01, -2.1353e-01, -4.7092e-01,  3.6042e-01, -9.9159e-02,\n",
            "         -4.9355e-02,  8.9868e-01,  3.8166e-01,  3.2002e-01,  3.7950e-01,\n",
            "         -8.4887e-01, -8.3620e-02, -8.6391e-02,  6.3547e-01,  6.5655e-01,\n",
            "          4.7731e-01, -3.3378e-02,  4.4376e-01, -2.0098e-01,  5.7929e-01,\n",
            "          7.9034e-01,  7.2016e-01, -1.1527e-01,  4.2872e-01,  5.7609e-01,\n",
            "         -3.0742e-01,  2.0910e-01,  3.0616e-01,  4.7295e-01, -7.4103e-01,\n",
            "          7.1245e-01,  1.0261e-01,  2.2415e-02,  2.8449e-01,  6.7113e-01,\n",
            "          6.5146e-02,  4.8710e-03,  3.8399e-01,  9.1962e-01,  2.1253e-01,\n",
            "          9.9706e-02, -2.8050e-01,  4.2969e-01,  1.1211e+00,  9.8861e-02,\n",
            "         -4.5904e-01, -3.0511e-02,  3.1716e-01, -3.1107e-01, -2.4146e-01,\n",
            "          1.6839e-01, -1.8383e-01,  2.8204e-01, -3.3608e-01,  5.2768e-01,\n",
            "         -9.2978e-02, -4.4551e-01,  8.4558e-02,  7.3213e-01,  2.7351e-01,\n",
            "          2.3939e-01,  2.6824e-02,  6.7486e-01, -3.8860e-01,  8.3122e-02,\n",
            "          3.4450e-02,  6.1125e-01,  5.1304e-01, -1.9835e-01,  6.5315e-01,\n",
            "          8.3599e-01,  2.8853e-01,  3.1824e-01,  8.3324e-01, -1.6950e-01,\n",
            "          6.0017e-01,  6.6032e-02,  3.1485e-01,  3.6549e-02, -2.3923e-01,\n",
            "          3.8326e-01,  3.8353e-01,  4.7771e-02,  1.0079e+00,  6.5139e-01,\n",
            "          8.4859e-01,  5.9866e-01, -8.9709e-01,  7.5601e-01,  8.1104e-01,\n",
            "         -7.7217e-01,  2.0103e-01,  2.5359e-01,  7.2521e-03,  1.4595e-01,\n",
            "         -2.8258e-01, -4.3617e-01, -2.3347e-01,  5.1801e-01,  9.6855e-01,\n",
            "          3.8424e-01,  2.6304e-02,  3.1596e-01,  6.9574e-02, -5.0694e-02,\n",
            "         -5.4370e-01, -1.0050e+00, -4.9364e-01,  6.3168e-01, -1.0881e+00,\n",
            "         -1.0912e+00, -1.4629e+00, -8.9693e-01, -1.1703e+00, -3.4893e-01,\n",
            "         -4.3484e-01,  7.0775e-01,  6.2343e-01,  1.0989e-01,  3.3683e-01,\n",
            "          1.0982e+00, -3.1901e-01, -3.8459e-01, -8.6565e-01, -1.5593e+00,\n",
            "         -1.2077e+00, -1.6412e+00, -3.3344e-01, -1.2460e+00, -1.1415e+00,\n",
            "         -9.2845e-01, -7.2313e-01, -1.3274e+00, -7.8721e-01, -3.1867e-01,\n",
            "         -1.8115e+00, -9.5862e-01, -3.8301e-01, -2.3691e-01, -1.2729e+00,\n",
            "         -8.6605e-01,  1.9229e-01, -8.6083e-01, -1.3868e+00, -3.7097e-01,\n",
            "          2.4490e-01, -4.0071e-01, -4.5009e-01,  2.5159e-01,  7.0557e-01,\n",
            "         -5.8242e-01, -1.1368e+00, -1.3140e+00, -1.0415e+00, -8.7295e-01,\n",
            "         -1.5751e+00, -9.6008e-01, -1.4312e+00, -1.6534e+00, -1.2350e+00,\n",
            "         -1.6838e+00, -1.2528e+00, -1.2449e-01, -6.6484e-02, -4.2933e-01,\n",
            "         -3.6054e-02, -1.2958e-01,  1.4967e-01,  8.7253e-01, -5.5959e-01,\n",
            "         -7.8082e-01, -1.5653e+00,  2.4269e-01,  7.4251e-01, -1.3561e+00,\n",
            "         -6.4590e-01,  8.1931e-01, -4.6179e-01, -1.4817e+00, -4.8912e-01,\n",
            "          5.1452e-01, -8.3502e-01, -1.7565e+00, -2.4842e-01, -1.3085e+00,\n",
            "         -1.1119e+00, -2.3894e+00, -1.4989e+00, -7.2353e-01, -1.0395e+00,\n",
            "          2.6393e-01,  9.8967e-01,  8.9090e-02,  3.7917e-01,  3.1491e-01,\n",
            "         -1.5760e-01,  6.7440e-01,  2.3613e-01,  2.6432e-01, -5.9598e-01,\n",
            "         -4.7237e-01, -1.2271e+00, -6.0407e-01, -9.1120e-01, -7.2885e-01,\n",
            "         -5.0573e-01, -2.5876e-01, -2.4934e-01,  1.8980e-01, -2.0380e-01,\n",
            "         -1.0443e+00, -1.3230e+00, -2.8981e-02, -3.4162e-01, -5.8303e-01,\n",
            "          2.5312e-01, -5.1453e-01, -2.6389e-01, -5.0317e-01, -7.2926e-01,\n",
            "         -5.9241e-01, -1.3265e+00, -1.3643e+00, -1.1499e+00, -4.3810e-01,\n",
            "          5.3013e-01,  2.1113e-01, -1.6268e+00, -1.9215e+00, -3.8751e-01,\n",
            "          5.9352e-01, -1.3435e+00, -8.1012e-01,  5.2041e-01,  6.8923e-02,\n",
            "         -7.4313e-01,  9.6986e-01,  3.9802e-02, -2.3012e+00, -2.0520e+00,\n",
            "         -8.8430e-01,  1.3559e-03, -4.1696e-01, -3.6771e-01,  1.3643e+00,\n",
            "         -1.2325e-04,  3.1286e-01,  2.1396e+00,  7.5773e-01,  4.1185e-01,\n",
            "          1.0394e+00, -5.2253e-01, -1.0113e-01,  4.3422e-01,  1.0010e+00,\n",
            "          5.4881e-01,  1.3408e+00, -4.8206e-02,  4.7060e-01,  3.6534e-01,\n",
            "         -7.7978e-01,  1.7190e-01,  1.7153e+00,  1.7309e+00,  3.1334e-01,\n",
            "         -8.9255e-01, -6.7755e-02,  2.8197e-01,  5.0170e-01,  4.4885e-01,\n",
            "          9.8579e-01, -5.0130e-01, -3.9064e-01,  6.9617e-01,  4.0923e-01,\n",
            "          1.1495e+00,  5.9824e-01,  3.1062e-01, -6.1944e-01, -4.7767e-01,\n",
            "          2.4403e-01,  8.0473e-01,  1.5857e+00,  9.0721e-01, -7.1108e-01,\n",
            "         -2.5558e-01,  5.2026e-01,  4.9545e-01,  8.1536e-02, -3.2024e-04,\n",
            "          5.1532e-01,  1.5146e+00,  1.5496e+00, -9.6148e-02,  8.8329e-01,\n",
            "         -7.6695e-01,  9.3982e-01,  1.1316e+00,  2.6088e+00,  1.0304e+00,\n",
            "         -1.9484e-01, -1.5354e+00, -1.2070e-01, -7.5980e-02,  1.6624e+00,\n",
            "          1.1346e+00,  9.0969e-01,  2.2533e-01,  1.0681e+00, -5.6059e-01,\n",
            "          1.9942e-01, -5.0144e-02,  8.3893e-01,  9.9054e-01,  4.3604e-01,\n",
            "          1.0728e-01,  4.8785e-01,  4.7123e-01, -7.6935e-01, -1.4793e+00,\n",
            "          7.1250e-02, -1.5496e-01,  1.3109e+00,  1.6878e+00,  1.2136e+00,\n",
            "          5.5148e-01,  3.6964e-01,  7.4634e-01, -8.8790e-01,  1.3565e+00,\n",
            "         -8.5473e-01,  2.1670e-01, -8.2733e-02, -1.5486e-02,  1.3989e+00,\n",
            "         -1.6945e+00,  4.1832e-01,  1.5078e+00,  7.1120e-01,  1.0227e+00,\n",
            "          1.3148e+00,  1.3318e+00,  1.0577e+00,  5.9537e-01,  1.0898e-01,\n",
            "         -1.1459e+00, -9.0503e-01,  1.1180e+00,  5.1829e-01,  1.0639e+00,\n",
            "          1.7187e+00,  3.3459e-01,  2.2115e-01,  1.2336e+00,  7.9203e-01,\n",
            "         -8.2555e-01,  4.6800e-01,  8.9361e-01,  1.7396e+00,  5.5751e-01,\n",
            "         -8.0316e-01, -7.2558e-02, -3.5772e-01,  2.3338e-01,  3.3575e-03,\n",
            "          1.2818e+00,  3.7524e-01,  8.4348e-02, -1.1922e+00,  4.3835e-01,\n",
            "         -3.9394e-01, -5.5860e-01, -5.4276e-01,  2.6037e-01,  1.2496e+00,\n",
            "         -1.3774e+00,  1.6385e+00,  1.1325e+00,  7.3470e-01,  5.2749e-01,\n",
            "          8.4476e-01,  6.7361e-01, -1.9782e+00, -1.1456e+00, -1.0872e-01,\n",
            "         -3.2850e-01,  1.8855e-01,  9.4858e-01,  1.2413e-01, -1.3835e+00,\n",
            "         -6.1543e-01,  5.5270e-01,  4.0926e-01,  1.0935e+00,  9.3448e-01,\n",
            "         -5.0851e-02,  1.7464e-01,  7.1041e-01,  4.3751e-01, -1.0654e+00,\n",
            "         -5.9850e-01,  2.7277e-02,  9.8198e-01,  3.4531e-01, -2.8434e-01,\n",
            "          8.7080e-01,  2.4488e-01,  8.5906e-01, -1.0114e+00,  4.1551e-01,\n",
            "         -4.1463e-02, -7.0739e-01,  1.1763e+00,  3.1039e-01,  3.4504e-01,\n",
            "          6.9625e-02, -3.1607e-01,  7.5529e-01,  6.5081e-01,  6.3122e-01,\n",
            "          7.4340e-01, -3.4583e-01,  1.5719e+00,  1.0015e+00,  1.0490e+00,\n",
            "         -3.1295e-01,  6.5441e-01, -6.1609e-01,  8.4113e-01,  3.5669e-01,\n",
            "         -8.4835e-01,  9.4059e-01, -1.8806e-01, -4.9760e-01,  7.9732e-01,\n",
            "          2.2903e+00, -1.5444e-01, -3.6180e-01, -3.8797e-01,  6.7655e-01,\n",
            "          4.2568e-01,  1.4033e+00, -5.7628e-01,  4.4506e-01, -3.1537e-01,\n",
            "          8.0087e-01,  5.5752e-01, -4.7988e-01,  5.9393e-01, -3.6605e-02,\n",
            "          4.1059e-01,  1.1398e+00,  8.9466e-01,  1.6068e+00,  9.7205e-01,\n",
            "          1.1053e+00,  6.5574e-01,  1.9886e-01,  6.3043e-01,  1.6400e-01,\n",
            "         -1.2809e+00,  1.5541e+00, -2.0301e-01, -1.2169e+00,  6.5648e-01,\n",
            "          1.8614e-01,  1.2033e+00,  9.4162e-01,  1.1930e+00, -4.1518e-01,\n",
            "          5.4070e-01,  1.4311e+00,  9.5860e-01,  6.0228e-01,  1.3126e-01,\n",
            "         -1.4853e+00,  9.9507e-01, -2.3161e-01,  1.4757e+00,  9.3651e-01,\n",
            "         -1.0905e+00,  4.8557e-01,  4.3451e-01, -5.3121e-01, -1.6761e+00,\n",
            "          1.3398e+00,  3.5010e-01,  6.0925e-01,  1.1728e+00,  1.2409e-01,\n",
            "          6.7961e-01,  1.1415e-01,  2.8189e-01, -8.3269e-02,  3.1254e-01,\n",
            "         -1.6769e-01, -1.2228e+00,  1.0560e-04, -5.9371e-01,  1.1839e+00,\n",
            "          5.4408e-03,  1.3190e+00,  3.7039e-01, -5.1563e-01, -5.1656e-01,\n",
            "          1.9083e-01, -2.2765e-01, -5.6004e-01,  7.5488e-01,  1.6851e+00,\n",
            "         -5.4946e-01,  1.5802e+00,  1.0379e+00,  7.5156e-01,  3.6627e-01,\n",
            "          3.3652e-01,  5.7003e-01, -7.0590e-01,  6.2820e-01,  8.0909e-01,\n",
            "         -1.3747e+00,  9.6609e-03, -8.2320e-01,  1.4889e-02, -9.5660e-01,\n",
            "         -4.9306e-01,  7.3508e-01,  1.0623e+00,  4.5776e-01, -6.8507e-01,\n",
            "          1.0976e+00,  1.6260e+00, -1.5457e-01, -3.9692e-01,  6.4360e-01,\n",
            "          2.2234e+00, -5.9376e-01, -3.1195e-01,  4.5678e-01,  8.3882e-01,\n",
            "         -4.6945e-01, -5.1843e-01,  4.8796e-01,  7.7141e-01,  5.4134e-01,\n",
            "          1.1082e+00,  1.3007e+00,  2.5809e-01, -2.5267e-01,  3.6818e-01,\n",
            "         -3.6398e-01,  7.4259e-01, -8.5494e-01, -4.5528e-01,  5.9945e-01,\n",
            "          4.2576e-01,  3.9676e-01,  1.0095e+00,  1.1654e-01, -5.6144e-01,\n",
            "          1.4829e+00, -7.2739e-01, -1.3258e-01,  1.6664e+00, -2.9690e-01,\n",
            "         -7.9225e-02,  2.1297e+00, -5.8273e-01,  1.9568e+00, -1.5669e+00,\n",
            "         -1.7269e-01, -1.9872e-01,  6.7797e-01,  1.0759e+00,  1.8814e-01,\n",
            "          1.1503e+00, -5.5188e-02,  6.8661e-01,  4.7696e-01,  9.1057e-01,\n",
            "          2.8901e-01,  2.3363e-01,  7.9593e-01,  9.6726e-01,  1.8050e+00,\n",
            "          3.1481e-01, -2.1264e-01,  1.3281e-01,  8.4325e-01,  1.1032e+00,\n",
            "         -6.5468e-01,  1.1385e+00,  1.6709e-01,  1.4423e+00,  1.4605e-02,\n",
            "          1.2643e-01,  8.4466e-01,  5.7576e-01,  6.6606e-01,  1.3798e+00,\n",
            "          8.8709e-01,  8.0842e-01,  6.2850e-01, -4.5685e-01,  1.1739e+00,\n",
            "          6.1200e-01,  6.5878e-01,  1.5032e+00,  9.2192e-01,  1.0331e+00,\n",
            "          4.7791e-01,  5.6438e-01,  7.4793e-01,  1.7080e+00, -9.1898e-01,\n",
            "         -8.9595e-01, -6.8313e-01,  1.1899e+00,  1.1500e+00,  1.8196e+00,\n",
            "          2.9115e-01,  6.1467e-01,  1.5653e+00,  4.5810e-01, -1.2965e-01,\n",
            "          6.2778e-01,  1.1645e+00,  1.6075e+00,  9.4365e-01,  5.8906e-01,\n",
            "          1.2815e-01,  6.6342e-01,  5.6561e-01, -6.4120e-01,  4.8369e-01,\n",
            "         -5.4035e-01, -6.4661e-02, -1.2735e+00, -1.1430e+00,  1.4909e+00,\n",
            "          1.0025e+00,  2.6345e-01,  3.7191e-01,  1.3687e+00, -7.9564e-02,\n",
            "         -3.9091e-01,  1.1066e+00, -7.4920e-02,  1.3595e+00, -1.0821e+00,\n",
            "         -3.3826e-01,  4.8465e-01, -1.2401e+00,  1.8732e+00,  5.2639e-01,\n",
            "         -1.5127e+00, -1.1698e+00,  4.4157e-01,  7.6211e-01,  9.3807e-01,\n",
            "         -1.1784e+00,  3.8542e-01,  1.1257e+00,  1.4425e+00, -5.3637e-01,\n",
            "          9.9651e-01,  5.7874e-02, -6.0749e-01, -8.5059e-01,  4.3206e-02,\n",
            "          7.0453e-01,  1.6583e+00,  1.6062e+00,  9.3989e-01, -5.6657e-01,\n",
            "          1.4683e+00,  3.1368e-01,  4.2629e-01,  4.6110e-01,  9.6888e-01,\n",
            "          1.9365e+00,  7.4066e-01, -5.5388e-01,  6.2778e-01,  9.1587e-01,\n",
            "          1.0573e+00,  1.4259e+00,  1.4292e+00, -6.4869e-01, -1.4770e-01,\n",
            "          1.1771e+00, -6.1612e-01,  4.8558e-02, -3.8276e-01,  8.3747e-01,\n",
            "          3.6973e-01,  1.3923e+00,  1.0527e+00, -2.1293e-01, -3.5548e-01,\n",
            "          4.6105e-01, -1.1213e-01, -1.4076e-01,  1.3942e+00, -5.7918e-01,\n",
            "          8.6938e-01, -1.6932e+00,  1.0222e+00, -9.1941e-01, -2.1039e+00,\n",
            "          5.1425e-01,  1.4705e+00, -3.6495e-02, -1.5451e-02,  1.5509e+00,\n",
            "          1.0368e+00, -2.4340e-03,  1.0789e+00,  1.6694e+00,  2.4080e-01,\n",
            "         -5.9018e-03, -1.5696e-01, -5.6699e-03, -1.1757e+00,  2.8935e-01,\n",
            "         -5.4053e-01,  2.1963e-01,  8.9872e-01,  4.2475e-01, -3.1502e-01,\n",
            "         -6.9990e-01,  1.2851e+00,  6.3071e-01,  2.0109e+00,  2.0298e+00,\n",
            "         -9.9057e-01, -4.9479e-01,  1.6981e+00,  9.8981e-01,  1.0470e+00,\n",
            "          2.2732e-01, -2.4076e-01,  1.4462e+00, -9.7776e-01,  1.0781e+00,\n",
            "          1.1269e+00,  1.1290e+00,  6.6546e-01, -3.3613e-01, -1.7904e+00,\n",
            "         -4.7702e-01,  2.4223e-01,  2.4761e-01,  5.4653e-01,  3.9992e-01,\n",
            "          1.3729e-01,  1.3164e+00, -6.3595e-01,  5.7389e-01, -4.6416e-01,\n",
            "         -1.0737e+00, -1.0532e+00, -4.7568e-01, -1.4880e-01,  1.3312e+00,\n",
            "         -4.2183e-01,  5.0353e-02,  2.7123e-01, -1.6549e+00, -1.4716e-02,\n",
            "         -5.4557e-01,  2.3022e-01,  2.1458e-01, -3.3821e-01, -1.2702e-01,\n",
            "         -4.1412e-01, -6.6371e-01, -2.9480e-01,  1.1315e-01, -6.5970e-01,\n",
            "         -8.3790e-01, -1.3075e+00,  2.6466e-01,  6.6306e-01, -2.1502e-01,\n",
            "         -1.7709e-02, -5.9318e-01, -5.6427e-01,  2.8952e-01,  6.3747e-01,\n",
            "         -6.1510e-01, -3.2410e-01, -2.8856e-01, -2.8258e-01, -1.0822e+00,\n",
            "          2.9657e-01,  2.3869e-01, -2.5692e-01, -8.5429e-01, -1.4631e+00,\n",
            "         -2.2400e-01,  6.8144e-01, -5.3824e-01,  8.2016e-01, -2.5648e-01,\n",
            "         -8.6710e-03,  8.1241e-01, -4.9192e-01, -5.1897e-01, -2.0328e+00,\n",
            "          9.1966e-01, -1.7732e+00,  3.6805e-01,  8.5349e-02, -8.5249e-01,\n",
            "         -5.5255e-01, -2.1496e-01,  6.0871e-01, -4.9714e-01, -1.2166e+00,\n",
            "         -1.1239e+00, -2.6408e+00,  1.5187e+00, -3.7304e-01, -1.0887e+00,\n",
            "         -3.4793e-01, -1.4130e+00, -1.0905e+00, -2.0635e+00, -7.8120e-01,\n",
            "         -4.9270e-01,  6.7692e-02, -7.6086e-01,  1.2293e+00,  1.1872e+00]],\n",
            "       grad_fn=<AddmmBackward0>)\n"
          ]
        }
      ],
      "source": [
        "prediction = model(data) # forward pass\n",
        "print(prediction)"
      ]
    },
    {
      "cell_type": "markdown",
      "metadata": {
        "id": "N_zhRtp873m-"
      },
      "source": [
        "We use the model's prediction and the corresponding label to calculate the error (``loss``).\n",
        "The next step is to backpropagate this error through the network.\n",
        "Backward propagation is kicked off when we call ``.backward()`` on the error tensor.\n",
        "Autograd then calculates and stores the gradients for each model parameter in the parameter's ``.grad`` attribute.\n",
        "\n",
        "\n"
      ]
    },
    {
      "cell_type": "code",
      "execution_count": null,
      "metadata": {
        "id": "TnSAeVfT73m-"
      },
      "outputs": [],
      "source": [
        "loss = (prediction - labels).sum()\n",
        "loss.backward() # backward pass"
      ]
    },
    {
      "cell_type": "markdown",
      "metadata": {
        "id": "Y9HysFT373m-"
      },
      "source": [
        "Next, we load an optimizer, in this case SGD with a learning rate of 0.01 and [momentum](https://towardsdatascience.com/stochastic-gradient-descent-with-momentum-a84097641a5d)_ of 0.9.\n",
        "We register all the parameters of the model in the optimizer.\n",
        "\n",
        "\n"
      ]
    },
    {
      "cell_type": "code",
      "execution_count": null,
      "metadata": {
        "colab": {
          "base_uri": "https://localhost:8080/"
        },
        "id": "PtuHMx0873m-",
        "outputId": "6191cd30-93c1-475a-8dc0-887ea76bb53a"
      },
      "outputs": [
        {
          "output_type": "stream",
          "name": "stdout",
          "text": [
            "SGD (\n",
            "Parameter Group 0\n",
            "    dampening: 0\n",
            "    differentiable: False\n",
            "    foreach: None\n",
            "    lr: 0.01\n",
            "    maximize: False\n",
            "    momentum: 0.9\n",
            "    nesterov: False\n",
            "    weight_decay: 0\n",
            ")\n"
          ]
        }
      ],
      "source": [
        "optim = torch.optim.SGD(model.parameters(), lr=1e-2, momentum=0.9)\n",
        "print(optim)"
      ]
    },
    {
      "cell_type": "markdown",
      "metadata": {
        "id": "EjWThB_O73m-"
      },
      "source": [
        "Finally, we call ``.step()`` to initiate gradient descent. The optimizer adjusts each parameter by its gradient stored in ``.grad``.\n",
        "\n",
        "\n"
      ]
    },
    {
      "cell_type": "code",
      "execution_count": null,
      "metadata": {
        "id": "XmzHGGxD73m_"
      },
      "outputs": [],
      "source": [
        "optim.step() #gradient descent"
      ]
    },
    {
      "cell_type": "markdown",
      "metadata": {
        "id": "IFbSkuYj73m_"
      },
      "source": [
        "At this point, you have everything you need to train your neural network.\n",
        "The below sections detail the workings of autograd - feel free to skip them.\n",
        "\n",
        "\n"
      ]
    },
    {
      "cell_type": "markdown",
      "metadata": {
        "id": "ue4n-IA773m_"
      },
      "source": [
        "--------------\n",
        "\n",
        "\n"
      ]
    },
    {
      "cell_type": "markdown",
      "metadata": {
        "id": "Ao874diI73m_"
      },
      "source": [
        "## Differentiation in Autograd\n",
        "Let's take a look at how ``autograd`` collects gradients. We create two tensors ``a`` and ``b`` with\n",
        "``requires_grad=True``. This signals to ``autograd`` that every operation on them should be tracked.\n",
        "\n",
        "\n"
      ]
    },
    {
      "cell_type": "code",
      "execution_count": null,
      "metadata": {
        "id": "-gKANg3f73m_"
      },
      "outputs": [],
      "source": [
        "import torch\n",
        "\n",
        "a = torch.tensor([2., 3.], requires_grad=True)\n",
        "b = torch.tensor([6., 4.], requires_grad=True)"
      ]
    },
    {
      "cell_type": "markdown",
      "metadata": {
        "id": "c5pnhDZW73nA"
      },
      "source": [
        "We create another tensor ``Q`` from ``a`` and ``b``.\n",
        "\n",
        "\\begin{align}Q = 3a^3 - b^2\\end{align}\n",
        "\n"
      ]
    },
    {
      "cell_type": "code",
      "execution_count": null,
      "metadata": {
        "colab": {
          "base_uri": "https://localhost:8080/"
        },
        "id": "mVV2l5di73nA",
        "outputId": "b18620e4-8cce-4453-f633-3733db51e520"
      },
      "outputs": [
        {
          "output_type": "stream",
          "name": "stdout",
          "text": [
            "tensor([-12.,  65.], grad_fn=<SubBackward0>)\n"
          ]
        }
      ],
      "source": [
        "Q = 3*a**3 - b**2\n",
        "print(Q)"
      ]
    },
    {
      "cell_type": "markdown",
      "metadata": {
        "id": "rL6naUKC73nA"
      },
      "source": [
        "Let's assume ``a`` and ``b`` to be parameters of an NN, and ``Q``\n",
        "to be the error. In NN training, we want gradients of the error\n",
        "w.r.t. parameters, i.e.\n",
        "\n",
        "\\begin{align}\\frac{\\partial Q}{\\partial a} = 9a^2\\end{align}\n",
        "\n",
        "\\begin{align}\\frac{\\partial Q}{\\partial b} = -2b\\end{align}\n",
        "\n",
        "\n",
        "When we call ``.backward()`` on ``Q``, autograd calculates these gradients\n",
        "and stores them in the respective tensors' ``.grad`` attribute.\n",
        "\n",
        "We need to explicitly pass a ``gradient`` argument in ``Q.backward()`` because it is a vector.\n",
        "``gradient`` is a tensor of the same shape as ``Q``, and it represents the\n",
        "gradient of Q w.r.t. itself, i.e.\n",
        "\n",
        "\\begin{align}\\frac{dQ}{dQ} = 1\\end{align}\n",
        "\n",
        "Equivalently, we can also aggregate Q into a scalar and call backward implicitly, like ``Q.sum().backward()``.\n",
        "\n",
        "\n"
      ]
    },
    {
      "cell_type": "code",
      "execution_count": null,
      "metadata": {
        "id": "0E0IeJHr73nA"
      },
      "outputs": [],
      "source": [
        "external_grad = torch.tensor([1., 1.])\n",
        "Q.backward(gradient=external_grad)"
      ]
    },
    {
      "cell_type": "markdown",
      "metadata": {
        "id": "v-2buLDa73nA"
      },
      "source": [
        "Gradients are now deposited in ``a.grad`` and ``b.grad``\n",
        "\n"
      ]
    },
    {
      "cell_type": "code",
      "execution_count": null,
      "metadata": {
        "colab": {
          "base_uri": "https://localhost:8080/"
        },
        "id": "q_9ATN2Z73nA",
        "outputId": "e7cd8dc9-3112-4bda-eb33-8b290a2f22b9"
      },
      "outputs": [
        {
          "output_type": "stream",
          "name": "stdout",
          "text": [
            "tensor([True, True])\n",
            "tensor([True, True])\n"
          ]
        }
      ],
      "source": [
        "# check if collected gradients are correct\n",
        "print(9*a**2 == a.grad)\n",
        "print(-2*b == b.grad)"
      ]
    },
    {
      "cell_type": "markdown",
      "metadata": {
        "id": "OM9e3kyI73nA"
      },
      "source": [
        "### Optional Reading - Vector Calculus using ``autograd``\n",
        "\n",
        "Mathematically, if you have a vector valued function\n",
        "$\\vec{y}=f(\\vec{x})$, then the gradient of $\\vec{y}$ with\n",
        "respect to $\\vec{x}$ is a Jacobian matrix $J$:\n",
        "\n",
        "\\begin{align}J\n",
        "     =\n",
        "      \\left(\\begin{array}{cc}\n",
        "      \\frac{\\partial \\bf{y}}{\\partial x_{1}} &\n",
        "      ... &\n",
        "      \\frac{\\partial \\bf{y}}{\\partial x_{n}}\n",
        "      \\end{array}\\right)\n",
        "     =\n",
        "     \\left(\\begin{array}{ccc}\n",
        "      \\frac{\\partial y_{1}}{\\partial x_{1}} & \\cdots & \\frac{\\partial y_{1}}{\\partial x_{n}}\\\\\n",
        "      \\vdots & \\ddots & \\vdots\\\\\n",
        "      \\frac{\\partial y_{m}}{\\partial x_{1}} & \\cdots & \\frac{\\partial y_{m}}{\\partial x_{n}}\n",
        "      \\end{array}\\right)\\end{align}\n",
        "\n",
        "Generally speaking, ``torch.autograd`` is an engine for computing\n",
        "vector-Jacobian product. That is, given any vector $\\vec{v}$, compute the product\n",
        "$J^{T}\\cdot \\vec{v}$\n",
        "\n",
        "If $\\vec{v}$ happens to be the gradient of a scalar function $l=g\\left(\\vec{y}\\right)$:\n",
        "\n",
        "\\begin{align}\\vec{v}\n",
        "   =\n",
        "   \\left(\\begin{array}{ccc}\\frac{\\partial l}{\\partial y_{1}} & \\cdots & \\frac{\\partial l}{\\partial y_{m}}\\end{array}\\right)^{T}\\end{align}\n",
        "\n",
        "then by the chain rule, the vector-Jacobian product would be the\n",
        "gradient of $l$ with respect to $\\vec{x}$:\n",
        "\n",
        "\\begin{align}J^{T}\\cdot \\vec{v}=\\left(\\begin{array}{ccc}\n",
        "      \\frac{\\partial y_{1}}{\\partial x_{1}} & \\cdots & \\frac{\\partial y_{m}}{\\partial x_{1}}\\\\\n",
        "      \\vdots & \\ddots & \\vdots\\\\\n",
        "      \\frac{\\partial y_{1}}{\\partial x_{n}} & \\cdots & \\frac{\\partial y_{m}}{\\partial x_{n}}\n",
        "      \\end{array}\\right)\\left(\\begin{array}{c}\n",
        "      \\frac{\\partial l}{\\partial y_{1}}\\\\\n",
        "      \\vdots\\\\\n",
        "      \\frac{\\partial l}{\\partial y_{m}}\n",
        "      \\end{array}\\right)=\\left(\\begin{array}{c}\n",
        "      \\frac{\\partial l}{\\partial x_{1}}\\\\\n",
        "      \\vdots\\\\\n",
        "      \\frac{\\partial l}{\\partial x_{n}}\n",
        "      \\end{array}\\right)\\end{align}\n",
        "\n",
        "This characteristic of vector-Jacobian product is what we use in the above example;\n",
        "``external_grad`` represents $\\vec{v}$.\n",
        "\n",
        "\n"
      ]
    },
    {
      "cell_type": "markdown",
      "metadata": {
        "id": "2sS6EF1_73nB"
      },
      "source": [
        "## Computational Graph\n",
        "\n",
        "Conceptually, autograd keeps a record of data (tensors) & all executed\n",
        "operations (along with the resulting new tensors) in a directed acyclic\n",
        "graph (DAG) consisting of\n",
        "[Function](https://pytorch.org/docs/stable/autograd.html#torch.autograd.Function)_\n",
        "objects. In this DAG, leaves are the input tensors, roots are the output\n",
        "tensors. By tracing this graph from roots to leaves, you can\n",
        "automatically compute the gradients using the chain rule.\n",
        "\n",
        "In a forward pass, autograd does two things simultaneously:\n",
        "\n",
        "- run the requested operation to compute a resulting tensor, and\n",
        "- maintain the operation’s *gradient function* in the DAG.\n",
        "\n",
        "The backward pass kicks off when ``.backward()`` is called on the DAG\n",
        "root. ``autograd`` then:\n",
        "\n",
        "- computes the gradients from each ``.grad_fn``,\n",
        "- accumulates them in the respective tensor’s ``.grad`` attribute, and\n",
        "- using the chain rule, propagates all the way to the leaf tensors.\n",
        "\n",
        "Below is a visual representation of the DAG in our example. In the graph,\n",
        "the arrows are in the direction of the forward pass. The nodes represent the backward functions\n",
        "of each operation in the forward pass. The leaf nodes in blue represent our leaf tensors ``a`` and ``b``.\n",
        "\n",
        ".. figure:: /_static/img/dag_autograd.png\n",
        "\n",
        "<div class=\"alert alert-info\"><h4>Note</h4><p>**DAGs are dynamic in PyTorch**\n",
        "  An important thing to note is that the graph is recreated from scratch; after each\n",
        "  ``.backward()`` call, autograd starts populating a new graph. This is\n",
        "  exactly what allows you to use control flow statements in your model;\n",
        "  you can change the shape, size and operations at every iteration if\n",
        "  needed.</p></div>\n",
        "\n",
        "### Exclusion from the DAG\n",
        "\n",
        "``torch.autograd`` tracks operations on all tensors which have their\n",
        "``requires_grad`` flag set to ``True``. For tensors that don’t require\n",
        "gradients, setting this attribute to ``False`` excludes it from the\n",
        "gradient computation DAG.\n",
        "\n",
        "The output tensor of an operation will require gradients even if only a\n",
        "single input tensor has ``requires_grad=True``.\n",
        "\n",
        "\n"
      ]
    },
    {
      "cell_type": "code",
      "execution_count": null,
      "metadata": {
        "colab": {
          "base_uri": "https://localhost:8080/"
        },
        "id": "KOtKElke73nB",
        "outputId": "75e0c29a-ef2c-4bc9-d30c-0c8456632596"
      },
      "outputs": [
        {
          "output_type": "stream",
          "name": "stdout",
          "text": [
            "Does `a` require gradients? : False\n",
            "Does `b` require gradients?: True\n"
          ]
        }
      ],
      "source": [
        "x = torch.rand(5, 5)\n",
        "y = torch.rand(5, 5)\n",
        "z = torch.rand((5, 5), requires_grad=True)\n",
        "\n",
        "a = x + y\n",
        "print(f\"Does `a` require gradients? : {a.requires_grad}\")\n",
        "b = x + z\n",
        "print(f\"Does `b` require gradients?: {b.requires_grad}\")"
      ]
    },
    {
      "cell_type": "markdown",
      "metadata": {
        "id": "2kotIS1973nB"
      },
      "source": [
        "In a NN, parameters that don't compute gradients are usually called **frozen parameters**.\n",
        "It is useful to \"freeze\" part of your model if you know in advance that you won't need the gradients of those parameters\n",
        "(this offers some performance benefits by reducing autograd computations).\n",
        "\n",
        "In finetuning, we freeze most of the model and typically only modify the classifier layers to make predictions on new labels.\n",
        "Let's walk through a small example to demonstrate this. As before, we load a pretrained resnet18 model, and freeze all the parameters.\n",
        "\n"
      ]
    },
    {
      "cell_type": "code",
      "execution_count": null,
      "metadata": {
        "id": "0Ii2re1173nB"
      },
      "outputs": [],
      "source": [
        "from torch import nn, optim\n",
        "\n",
        "model = resnet18(weights=ResNet18_Weights.DEFAULT)\n",
        "\n",
        "# Freeze all the parameters in the network\n",
        "for param in model.parameters():\n",
        "    param.requires_grad = False"
      ]
    },
    {
      "cell_type": "markdown",
      "metadata": {
        "id": "UTBonNSN73nB"
      },
      "source": [
        "Let's say we want to finetune the model on a new dataset with 10 labels.\n",
        "In resnet, the classifier is the last linear layer ``model.fc``.\n",
        "We can simply replace it with a new linear layer (unfrozen by default)\n",
        "that acts as our classifier.\n",
        "\n"
      ]
    },
    {
      "cell_type": "code",
      "execution_count": null,
      "metadata": {
        "id": "Z3NxFo5a73nB"
      },
      "outputs": [],
      "source": [
        "model.fc = nn.Linear(512, 10)"
      ]
    },
    {
      "cell_type": "markdown",
      "metadata": {
        "id": "TT7YPNnO73nC"
      },
      "source": [
        "Now all parameters in the model, except the parameters of ``model.fc``, are frozen.\n",
        "The only parameters that compute gradients are the weights and bias of ``model.fc``.\n",
        "\n"
      ]
    },
    {
      "cell_type": "code",
      "execution_count": null,
      "metadata": {
        "id": "Vn--PXeK73nC"
      },
      "outputs": [],
      "source": [
        "# Optimize only the classifier\n",
        "optimizer = optim.SGD(model.parameters(), lr=1e-2, momentum=0.9)"
      ]
    },
    {
      "cell_type": "markdown",
      "metadata": {
        "id": "hmjCIjat73nC"
      },
      "source": [
        "Notice although we register all the parameters in the optimizer,\n",
        "the only parameters that are computing gradients (and hence updated in gradient descent)\n",
        "are the weights and bias of the classifier.\n",
        "\n",
        "The same exclusionary functionality is available as a context manager in\n",
        "[torch.no_grad()](https://pytorch.org/docs/stable/generated/torch.no_grad.html)_\n",
        "\n",
        "\n"
      ]
    },
    {
      "cell_type": "markdown",
      "metadata": {
        "id": "H3CuGG9F73nC"
      },
      "source": [
        "--------------\n",
        "\n",
        "\n"
      ]
    },
    {
      "cell_type": "markdown",
      "metadata": {
        "id": "NhA-9Yh_73nC"
      },
      "source": [
        "## Further readings:\n",
        "\n",
        "-  [In-place operations & Multithreaded Autograd](https://pytorch.org/docs/stable/notes/autograd.html)_\n",
        "-  [Example implementation of reverse-mode autodiff](https://colab.research.google.com/drive/1VpeE6UvEPRz9HmsHh1KS0XxXjYu533EC)_\n",
        "-  [Video: PyTorch Autograd Explained - In-depth Tutorial](https://www.youtube.com/watch?v=MswxJw-8PvE)_\n",
        "\n"
      ]
    }
  ],
  "metadata": {
    "kernelspec": {
      "display_name": "Python 3",
      "name": "python3"
    },
    "language_info": {
      "codemirror_mode": {
        "name": "ipython",
        "version": 3
      },
      "file_extension": ".py",
      "mimetype": "text/x-python",
      "name": "python",
      "nbconvert_exporter": "python",
      "pygments_lexer": "ipython3",
      "version": "3.10.13"
    },
    "colab": {
      "provenance": [],
      "gpuType": "T4",
      "include_colab_link": true
    },
    "accelerator": "GPU"
  },
  "nbformat": 4,
  "nbformat_minor": 0
}